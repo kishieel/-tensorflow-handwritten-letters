{
 "cells": [
  {
   "cell_type": "code",
   "outputs": [],
   "source": [
    "import pathlib\n",
    "import numpy as np\n",
    "import tensorflow as tf\n",
    "import matplotlib.pyplot as plt\n",
    "from sklearn.metrics import confusion_matrix, ConfusionMatrixDisplay"
   ],
   "metadata": {
    "collapsed": false
   },
   "id": "feef14e6e4008491",
   "execution_count": null
  },
  {
   "cell_type": "markdown",
   "source": [
    "# Preprocessing data"
   ],
   "metadata": {
    "collapsed": false
   },
   "id": "23da5ebf70497b8"
  },
  {
   "cell_type": "code",
   "outputs": [],
   "source": [
    "data_dir = pathlib.Path('/tmp/data').with_suffix('')\n",
    "training_ds = tf.keras.utils.image_dataset_from_directory(\n",
    "    directory=data_dir,\n",
    "    color_mode='grayscale',\n",
    "    validation_split=0.1,\n",
    "    subset='training',\n",
    "    image_size=(100, 100),\n",
    "    batch_size=16,\n",
    "    seed=522437\n",
    ")\n",
    "validation_ds = tf.keras.utils.image_dataset_from_directory(\n",
    "    directory=data_dir,\n",
    "    color_mode='grayscale',\n",
    "    validation_split=0.1,\n",
    "    subset='validation',\n",
    "    image_size=(100, 100),\n",
    "    batch_size=16,\n",
    "    seed=522437\n",
    ")"
   ],
   "metadata": {
    "collapsed": false
   },
   "id": "d5a1037f5d0e3105",
   "execution_count": null
  },
  {
   "cell_type": "code",
   "outputs": [],
   "source": [
    "class_names = training_ds.class_names\n",
    "num_classes = len(class_names)\n",
    "\n",
    "class_names, num_classes"
   ],
   "metadata": {
    "collapsed": false
   },
   "id": "79df005f249df13",
   "execution_count": null
  },
  {
   "cell_type": "code",
   "outputs": [],
   "source": [
    "training_ds = training_ds.cache().shuffle(1762).prefetch(buffer_size=tf.data.AUTOTUNE)\n",
    "validation_ds = validation_ds.cache().prefetch(buffer_size=tf.data.AUTOTUNE)\n",
    "\n",
    "training_ds = training_ds.map(lambda x, y: (tf.divide(x, 255), y))\n",
    "validation_ds = validation_ds.map(lambda x, y: (tf.divide(x, 255), y))"
   ],
   "metadata": {
    "collapsed": false
   },
   "id": "b85d1f8ada05cc62",
   "execution_count": null
  },
  {
   "cell_type": "markdown",
   "source": [
    "# Preview the data"
   ],
   "metadata": {
    "collapsed": false
   },
   "id": "70905ea74f1a063"
  },
  {
   "cell_type": "code",
   "outputs": [],
   "source": [
    "plt.figure(figsize=(10, 10))\n",
    "for images, labels in training_ds.take(1):\n",
    "    for i in range(9):\n",
    "        ax = plt.subplot(3, 3, i + 1)\n",
    "        plt.imshow(images[i].numpy().astype('uint8'))\n",
    "        plt.title(class_names[labels[i]])\n",
    "        plt.axis('off')"
   ],
   "metadata": {
    "collapsed": false
   },
   "id": "fba3579044172ebf",
   "execution_count": null
  },
  {
   "cell_type": "markdown",
   "source": [
    "# Model"
   ],
   "metadata": {
    "collapsed": false
   },
   "id": "8459b6209894b7ae"
  },
  {
   "cell_type": "code",
   "outputs": [],
   "source": [
    "model = tf.keras.models.Sequential([\n",
    "    tf.keras.layers.Input(shape=(100, 100, 1)),\n",
    "    tf.keras.layers.Conv2D(8, 5, activation='relu', kernel_initializer='variance_scaling'),\n",
    "    tf.keras.layers.MaxPooling2D(strides=(2, 2)),\n",
    "    tf.keras.layers.Conv2D(16, 5, activation='relu', kernel_initializer='variance_scaling'),\n",
    "    tf.keras.layers.MaxPooling2D(strides=(2, 2)),\n",
    "    tf.keras.layers.Flatten(),\n",
    "    tf.keras.layers.Dense(units=num_classes, activation='softmax', kernel_initializer='variance_scaling'),\n",
    "])"
   ],
   "metadata": {
    "collapsed": false
   },
   "id": "f713340fb08d3074",
   "execution_count": null
  },
  {
   "cell_type": "code",
   "outputs": [],
   "source": [
    "model.compile(\n",
    "    optimizer='adam',\n",
    "    loss=tf.keras.losses.SparseCategoricalCrossentropy(),\n",
    "    metrics=['accuracy']\n",
    ")\n",
    "model.summary()"
   ],
   "metadata": {
    "collapsed": false
   },
   "id": "1e372b4a6dcabe75",
   "execution_count": null
  },
  {
   "cell_type": "code",
   "outputs": [],
   "source": [
    "history = model.fit(\n",
    "    training_ds,\n",
    "    validation_data=validation_ds,\n",
    "    epochs=6\n",
    ")"
   ],
   "metadata": {
    "collapsed": false
   },
   "id": "e9d4e0bae517b0c8",
   "execution_count": null
  },
  {
   "cell_type": "markdown",
   "source": [
    "# Training and Validation Accuracy and Loss"
   ],
   "metadata": {
    "collapsed": false
   },
   "id": "3f1759ed48941ad5"
  },
  {
   "cell_type": "code",
   "outputs": [],
   "source": [
    "acc = history.history['accuracy']\n",
    "val_acc = history.history['val_accuracy']\n",
    "\n",
    "loss = history.history['loss']\n",
    "val_loss = history.history['val_loss']\n",
    "\n",
    "epochs_range = range(6)\n",
    "\n",
    "plt.figure(figsize=(8, 8))\n",
    "plt.subplot(1, 2, 1)\n",
    "plt.plot(epochs_range, acc, label='Training Accuracy')\n",
    "plt.plot(epochs_range, val_acc, label='Validation Accuracy')\n",
    "plt.legend(loc='lower right')\n",
    "plt.title('Training and Validation Accuracy')\n",
    "\n",
    "plt.subplot(1, 2, 2)\n",
    "plt.plot(epochs_range, loss, label='Training Loss')\n",
    "plt.plot(epochs_range, val_loss, label='Validation Loss')\n",
    "plt.legend(loc='upper right')\n",
    "plt.title('Training and Validation Loss')\n",
    "plt.show()"
   ],
   "metadata": {
    "collapsed": false
   },
   "id": "eb56a1060b7fd299",
   "execution_count": null
  },
  {
   "cell_type": "markdown",
   "source": [
    "# Predictions"
   ],
   "metadata": {
    "collapsed": false
   },
   "id": "14ff97870cd08ac9"
  },
  {
   "cell_type": "code",
   "outputs": [],
   "source": [
    "image = tf.keras.preprocessing.image.load_img(\n",
    "    '/tmp/data/upper-case-m/1691665536687.png',\n",
    "    target_size=(100, 100),\n",
    "    color_mode='grayscale'\n",
    ")\n",
    "image_array = tf.keras.utils.img_to_array(image)\n",
    "image_array = tf.expand_dims(image_array, 0)\n",
    "\n",
    "predictions = model.predict(image_array)\n",
    "score = tf.nn.softmax(predictions[0])\n",
    "\n",
    "print(\n",
    "    \"This image most likely belongs to {} with a {:.2f} percent confidence.\"\n",
    "    .format(class_names[np.argmax(score)], 100 * np.max(score))\n",
    ")"
   ],
   "metadata": {
    "collapsed": false
   },
   "id": "1206333cb9fdb237",
   "execution_count": null
  },
  {
   "cell_type": "markdown",
   "source": [
    "# Confusion Matrix"
   ],
   "metadata": {
    "collapsed": false
   },
   "id": "236911eefb38e89d"
  },
  {
   "cell_type": "code",
   "outputs": [],
   "source": [
    "test_images, test_labels = zip(*validation_ds.unbatch().as_numpy_iterator())\n",
    "test_images = np.array(test_images)\n",
    "test_labels = np.array(test_labels)\n",
    "\n",
    "predictions = model.predict(test_images)\n",
    "predicted_labels = np.argmax(predictions, axis=1)\n",
    "\n",
    "matrix = confusion_matrix(test_labels, predicted_labels, labels=range(num_classes))\n",
    "\n",
    "display = ConfusionMatrixDisplay(confusion_matrix=matrix, display_labels=[s[-1] for s in class_names])\n",
    "display.plot(cmap=plt.cm.Blues, values_format='.4g')\n",
    "\n",
    "plt.show()"
   ],
   "metadata": {
    "collapsed": false
   },
   "id": "ab08bb55ca95e924",
   "execution_count": null
  },
  {
   "cell_type": "code",
   "outputs": [],
   "source": [
    "model.save('/tmp/models/model.keras');"
   ],
   "metadata": {
    "collapsed": false
   },
   "id": "8c296bb17af32c97",
   "execution_count": null
  }
 ],
 "metadata": {
  "kernelspec": {
   "display_name": "Python 3",
   "language": "python",
   "name": "python3"
  },
  "language_info": {
   "codemirror_mode": {
    "name": "ipython",
    "version": 2
   },
   "file_extension": ".py",
   "mimetype": "text/x-python",
   "name": "python",
   "nbconvert_exporter": "python",
   "pygments_lexer": "ipython2",
   "version": "2.7.6"
  }
 },
 "nbformat": 4,
 "nbformat_minor": 5
}
